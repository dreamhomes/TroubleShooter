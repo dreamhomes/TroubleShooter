{
 "cells": [
  {
   "cell_type": "markdown",
   "source": [
    "## AR + MA models\n",
    "\n",
    "1. 「AR」*Autoregression*，自回归模型；\n",
    "\n",
    "2. 「MA」*Moving Average*，滑动平均模型；\n",
    "\n",
    "3. 「ARMA」*Autoregressive Moving Average*，自回归滑动平均模型；\n",
    "\n",
    "4. 「ARIMA」*Autoregressive Integrated Moving Average*，差分自回归移动平均模型；\n",
    "\n",
    "5. 「SARIMA」*Seasonal Autoregressive Integrated Moving-Average*，季节性差分自回归移动平均模型；\n",
    "\n",
    "6. 「SARIMAX」*Seasonal Autoregressive Integrated Moving-Average with Exogenous Regressors*，外生变量的季节性差分自回归移动平均模型；\n",
    "\n",
    "7. 「VAR」*Vector Autoregression*，向量自回归模型；\n",
    "\n",
    "8. 「VARMA」*Vector Autoregression Moving-Average*，向量自回归滑动平均模型；\n",
    "\n",
    "9. 「VARMAX」*Vector Autoregression Moving-Average with Exogenous Regressors*，外生变量的向量自回归滑动平均模型；"
   ],
   "metadata": {}
  },
  {
   "cell_type": "markdown",
   "source": [
    "## AR + MA"
   ],
   "metadata": {}
  },
  {
   "cell_type": "code",
   "execution_count": 1,
   "source": [
    "# AR example\n",
    "from statsmodels.tsa.ar_model import AutoReg\n",
    "from random import random\n",
    "# contrived dataset\n",
    "data = [x + random() for x in range(1, 100)]\n",
    "# fit model\n",
    "model = AutoReg(data, lags=1)\n",
    "model_fit = model.fit()\n",
    "# make prediction\n",
    "yhat = model_fit.predict(len(data), len(data))\n",
    "print(yhat)"
   ],
   "outputs": [
    {
     "output_type": "stream",
     "name": "stdout",
     "text": [
      "[100.69828944]\n"
     ]
    },
    {
     "output_type": "stream",
     "name": "stderr",
     "text": [
      "/Users/shenmengjia/opt/anaconda3/lib/python3.7/site-packages/statsmodels/tsa/ar_model.py:252: FutureWarning: The parameter names will change after 0.12 is released. Set old_names to False to use the new names now. Set old_names to True to use the old names. \n",
      "  FutureWarning,\n"
     ]
    }
   ],
   "metadata": {}
  }
 ],
 "metadata": {
  "orig_nbformat": 4,
  "language_info": {
   "name": "python",
   "version": "3.7.6",
   "mimetype": "text/x-python",
   "codemirror_mode": {
    "name": "ipython",
    "version": 3
   },
   "pygments_lexer": "ipython3",
   "nbconvert_exporter": "python",
   "file_extension": ".py"
  },
  "kernelspec": {
   "name": "python3",
   "display_name": "Python 3.7.6 64-bit ('base': conda)"
  },
  "interpreter": {
   "hash": "b5ab13542fc47d3aba86e039c92e8d8553e20d68fd4c98b476ea4f07b8d04f90"
  }
 },
 "nbformat": 4,
 "nbformat_minor": 2
}